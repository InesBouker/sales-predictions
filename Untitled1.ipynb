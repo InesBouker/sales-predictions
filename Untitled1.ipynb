{
  "nbformat": 4,
  "nbformat_minor": 0,
  "metadata": {
    "colab": {
      "provenance": [],
      "authorship_tag": "ABX9TyN+9Hx9XKPQUhJ66MlRoy2E",
      "include_colab_link": true
    },
    "kernelspec": {
      "name": "python3",
      "display_name": "Python 3"
    },
    "language_info": {
      "name": "python"
    }
  },
  "cells": [
    {
      "cell_type": "markdown",
      "metadata": {
        "id": "view-in-github",
        "colab_type": "text"
      },
      "source": [
        "<a href=\"https://colab.research.google.com/github/InesBouker/sales-predictions/blob/main/Untitled1.ipynb\" target=\"_parent\"><img src=\"https://colab.research.google.com/assets/colab-badge.svg\" alt=\"Open In Colab\"/></a>"
      ]
    },
    {
      "cell_type": "markdown",
      "source": [
        "# Prediction of Product Sales"
      ],
      "metadata": {
        "id": "hwbuai4nPC2q"
      }
    },
    {
      "cell_type": "markdown",
      "source": [
        "- Author: Ines Bouker"
      ],
      "metadata": {
        "id": "1D-SrRUWPF3Q"
      }
    },
    {
      "cell_type": "markdown",
      "source": [
        "## Project Overview"
      ],
      "metadata": {
        "id": "T4d5l4LTPOZh"
      }
    },
    {
      "cell_type": "markdown",
      "source": [
        "## Load and Inspect Data"
      ],
      "metadata": {
        "id": "89MsdZstPS1A"
      }
    },
    {
      "cell_type": "code",
      "source": [],
      "metadata": {
        "id": "70ZSkItfPexg"
      },
      "execution_count": null,
      "outputs": []
    },
    {
      "cell_type": "markdown",
      "source": [
        "## Clean Data"
      ],
      "metadata": {
        "id": "Z5SV1u6LPT5w"
      }
    },
    {
      "cell_type": "code",
      "source": [],
      "metadata": {
        "id": "XiutBhp1PgIh"
      },
      "execution_count": null,
      "outputs": []
    },
    {
      "cell_type": "markdown",
      "source": [
        "## Exploratory Data Analysis"
      ],
      "metadata": {
        "id": "kOGDw-DuPgbg"
      }
    },
    {
      "cell_type": "code",
      "source": [],
      "metadata": {
        "id": "FXXOt69gPl3g"
      },
      "execution_count": null,
      "outputs": []
    },
    {
      "cell_type": "markdown",
      "source": [
        "## Feature Inspection"
      ],
      "metadata": {
        "id": "zmMkAVcEPmFp"
      }
    },
    {
      "cell_type": "code",
      "source": [],
      "metadata": {
        "id": "4X5AELn1PqTo"
      },
      "execution_count": null,
      "outputs": []
    }
  ]
}